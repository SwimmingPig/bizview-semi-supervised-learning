{
 "cells": [
  {
   "cell_type": "markdown",
   "metadata": {},
   "source": [
    "# OCR_lib_test\n",
    "This file includes test scripts for the OCR_lib functions."
   ]
  },
  {
   "cell_type": "code",
   "execution_count": null,
   "metadata": {},
   "outputs": [],
   "source": [
    "from OCR_lib import word_to_vec, reshape_embeddings, detect_text\n",
    "import spacy\n",
    "import tensorflow as tf\n",
    "import numpy as np\n",
    "from PIL import Image, ImageShow\n",
    "import IPython.display as display"
   ]
  },
  {
   "cell_type": "markdown",
   "metadata": {},
   "source": [
    "# Test for function word_to_vec\n",
    "Given a valid word string and make sure the output array of embeddings is the same as the ground truth.\n",
    "Note: The word_to_vec will ignore words that are not in the dictionary. So the TEST_STRING should be a sentence with words that are in the English vocabulary."
   ]
  },
  {
   "cell_type": "code",
   "execution_count": null,
   "metadata": {},
   "outputs": [],
   "source": [
    "TEST_STRING = \"Test string\""
   ]
  },
  {
   "cell_type": "code",
   "execution_count": null,
   "metadata": {},
   "outputs": [],
   "source": [
    "word_embedding = word_to_vec(\"Test\")\n",
    "nlp = spacy.load(\"en_core_web_lg\")\n",
    "ground_truth_embedding = nlp(\"Test\")"
   ]
  },
  {
   "cell_type": "code",
   "execution_count": null,
   "metadata": {},
   "outputs": [],
   "source": [
    "assert ground_truth_embedding.vector.all() == word_embedding.all()"
   ]
  },
  {
   "cell_type": "markdown",
   "metadata": {},
   "source": [
    "# Test for reshape_embeddings()\n",
    "Test the reshape function with random generated arrays"
   ]
  },
  {
   "cell_type": "code",
   "execution_count": null,
   "metadata": {},
   "outputs": [],
   "source": [
    "DEFAULT_SHAPE = (64, 64, 1)\n",
    "TEST_ARRAYS = [np.random.rand(0), np.random.rand(10), np.random.rand(1000)]"
   ]
  },
  {
   "cell_type": "code",
   "execution_count": null,
   "metadata": {},
   "outputs": [],
   "source": [
    "for array in TEST_ARRAYS:\n",
    "    new_embedding = reshape_embeddings(array)\n",
    "    assert new_embedding.numpy().shape == DEFAULT_SHAPE"
   ]
  },
  {
   "cell_type": "markdown",
   "metadata": {},
   "source": [
    "# Test for detect_text()\n",
    "Input a sample image and determine if the returned OCR text is similar with the texts on the original image file."
   ]
  },
  {
   "cell_type": "code",
   "execution_count": null,
   "metadata": {},
   "outputs": [],
   "source": [
    "IMG_PATH = './TC11/svt1/train/00_01.jpg'\n",
    "img = Image.open(IMG_PATH, \"r\")\n",
    "texts = detect_text(img)"
   ]
  },
  {
   "cell_type": "code",
   "execution_count": null,
   "metadata": {},
   "outputs": [],
   "source": [
    "print(texts)\n",
    "display.display(img)"
   ]
  }
 ],
 "metadata": {
  "environment": {
   "name": "tf-gpu.1-15.m49",
   "type": "gcloud",
   "uri": "gcr.io/deeplearning-platform-release/tf-gpu.1-15:m49"
  },
  "kernelspec": {
   "display_name": "Python 3",
   "language": "python",
   "name": "python3"
  },
  "language_info": {
   "codemirror_mode": {
    "name": "ipython",
    "version": 3
   },
   "file_extension": ".py",
   "mimetype": "text/x-python",
   "name": "python",
   "nbconvert_exporter": "python",
   "pygments_lexer": "ipython3",
   "version": "3.7.6"
  }
 },
 "nbformat": 4,
 "nbformat_minor": 4
}
