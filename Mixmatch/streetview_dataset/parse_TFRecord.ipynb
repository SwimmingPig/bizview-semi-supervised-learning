{
 "cells": [
  {
   "cell_type": "code",
   "execution_count": 63,
   "metadata": {},
   "outputs": [],
   "source": [
    "import numpy as np\n",
    "import tensorflow as tf\n",
    "import matplotlib.pyplot as plt\n",
    "import IPython.display as display\n",
    "tf.enable_eager_execution()\n",
    "import itertools"
   ]
  },
  {
   "cell_type": "code",
   "execution_count": 64,
   "metadata": {},
   "outputs": [
    {
     "data": {
      "text/plain": [
       "<DatasetV1Adapter shapes: {image/object/bbox/confidence: (?,), image/object/bbox/xmax: (?,), image/object/bbox/xmin: (?,), image/object/bbox/ymax: (?,), image/object/bbox/ymin: (?,), image/source_id: ()}, types: {image/object/bbox/confidence: tf.float32, image/object/bbox/xmax: tf.float32, image/object/bbox/xmin: tf.float32, image/object/bbox/ymax: tf.float32, image/object/bbox/ymin: tf.float32, image/source_id: tf.string}>"
      ]
     },
     "execution_count": 64,
     "metadata": {},
     "output_type": "execute_result"
    }
   ],
   "source": [
    "raw_image_dataset = tf.data.TFRecordDataset('./streetlearn-detections/streetlearn_detections_tfexample-00000-of-01000.tfrecord')\n",
    "\n",
    "# Create a dictionary describing the features.\n",
    "image_feature_description = {\n",
    "#     'label': tf.io.FixedLenFeature([], tf.int64),\n",
    "    'image/source_id': tf.io.FixedLenFeature([], tf.string),\n",
    "    'image/object/bbox/confidence': tf.io.VarLenFeature(tf.float32),\n",
    "    'image/object/bbox/xmin': tf.io.VarLenFeature(tf.float32),\n",
    "    'image/object/bbox/ymin': tf.io.VarLenFeature(tf.float32),\n",
    "    'image/object/bbox/xmax': tf.io.VarLenFeature(tf.float32),\n",
    "    'image/object/bbox/ymax': tf.io.VarLenFeature(tf.float32),\n",
    "}\n",
    "\n",
    "def _parse_image_function(example_proto):\n",
    "  # Parse the input tf.Example proto using the dictionary above.\n",
    "  return tf.io.parse_single_example(example_proto, image_feature_description)\n",
    "\n",
    "parsed_image_dataset = raw_image_dataset.map(_parse_image_function)\n",
    "parsed_image_dataset\n"
   ]
  },
  {
   "cell_type": "code",
   "execution_count": 101,
   "metadata": {},
   "outputs": [
    {
     "name": "stdout",
     "output_type": "stream",
     "text": [
      "003419_2.jpg'\n",
      "[0.6700151  0.45046127 0.22411232 0.09745394 0.07810514 0.06079888\n",
      " 0.0587763  0.05148118]\n",
      "[  9. 714.  18. 703. 821. 420. 421. 370.]\n",
      "9.0\n"
     ]
    }
   ],
   "source": [
    "# print(type(parsed_image_dataset))\n",
    "\n",
    "for image_features in parsed_image_dataset.take(1):\n",
    "    file_name = str(image_features['image/source_id'].numpy()).split('/')[-1]\n",
    "    confidence = tf.sparse_tensor_to_dense(image_features['image/object/bbox/confidence'], default_value=0).numpy()\n",
    "    xmin = tf.sparse_tensor_to_dense(image_features['image/object/bbox/xmin'], default_value=0).numpy()\n",
    "    ymin = tf.sparse_tensor_to_dense(image_features['image/object/bbox/ymin'], default_value=0).numpy()\n",
    "    xmax = tf.sparse_tensor_to_dense(image_features['image/object/bbox/xmax'], default_value=0).numpy()\n",
    "    ymax = tf.sparse_tensor_to_dense(image_features['image/object/bbox/ymax'], default_value=0).numpy()\n",
    "    \n",
    "    bbox = [xmin, ymin, xmax, ymax]\n",
    "    \n",
    "    print(file_name)\n",
    "    print(confidence)\n",
    "    print(bbox)\n",
    "    \n",
    "# display.display(display.Image(data=image_raw))"
   ]
  },
  {
   "cell_type": "code",
   "execution_count": null,
   "metadata": {},
   "outputs": [],
   "source": []
  }
 ],
 "metadata": {
  "environment": {
   "name": "tf-gpu.1-15.m49",
   "type": "gcloud",
   "uri": "gcr.io/deeplearning-platform-release/tf-gpu.1-15:m49"
  },
  "kernelspec": {
   "display_name": "Python 3",
   "language": "python",
   "name": "python3"
  },
  "language_info": {
   "codemirror_mode": {
    "name": "ipython",
    "version": 3
   },
   "file_extension": ".py",
   "mimetype": "text/x-python",
   "name": "python",
   "nbconvert_exporter": "python",
   "pygments_lexer": "ipython3",
   "version": "3.7.6"
  }
 },
 "nbformat": 4,
 "nbformat_minor": 4
}
