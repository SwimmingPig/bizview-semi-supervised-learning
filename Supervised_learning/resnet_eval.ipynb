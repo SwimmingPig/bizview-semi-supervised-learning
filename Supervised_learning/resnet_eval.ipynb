{
 "cells": [
  {
   "cell_type": "markdown",
   "metadata": {},
   "source": [
    "# Resnet Eval\n",
    "This file is a helper tool to evaluate the predictions of the resnet model.\n",
    "The file reads in the predictions of the resnet model, and display the images that the model predictly wrong. Make it easier to figure out the edge cases for the model"
   ]
  },
  {
   "cell_type": "code",
   "execution_count": 1,
   "metadata": {},
   "outputs": [],
   "source": [
    "import numpy as np\n",
    "import pandas as pd\n",
    "import tensorflow.compat.v1 as tf\n",
    "import IPython.display as display\n",
    "\n",
    "tf.enable_eager_execution()"
   ]
  },
  {
   "cell_type": "code",
   "execution_count": 12,
   "metadata": {},
   "outputs": [],
   "source": [
    "# Global constants\n",
    "INPUT_PRED_DIR = './results.csv'\n",
    "INPUT_TF_DIR = '../Mixmatch/ML_DATA/streetview_v3_64-test.tfrecord'"
   ]
  },
  {
   "cell_type": "code",
   "execution_count": 8,
   "metadata": {},
   "outputs": [],
   "source": [
    "# Parse the label and image data from the tfrecord file\n",
    "def parse_tf_records(file_dir):\n",
    "    raw_image_dataset = tf.data.TFRecordDataset(file_dir)\n",
    "\n",
    "    # Create a dictionary describing the features.\n",
    "    image_feature_description = {\n",
    "        'label': tf.io.FixedLenFeature([], tf.int64),\n",
    "        'image': tf.io.FixedLenFeature([], tf.string),\n",
    "    }\n",
    "\n",
    "    def _parse_image_function(example_proto):\n",
    "      # Parse the input tf.Example proto using the dictionary above.\n",
    "      return tf.io.parse_single_example(example_proto, image_feature_description)\n",
    "\n",
    "    parsed_image_dataset = raw_image_dataset.map(_parse_image_function)\n",
    "    \n",
    "    return parsed_image_dataset"
   ]
  },
  {
   "cell_type": "code",
   "execution_count": 9,
   "metadata": {},
   "outputs": [],
   "source": [
    "parsed_image_dataset = parse_tf_records(INPUT_TF_DIR)"
   ]
  },
  {
   "cell_type": "code",
   "execution_count": 10,
   "metadata": {},
   "outputs": [],
   "source": [
    "# Read in the predictions from the output of the resnet model. The first 2 columns are the labels, and the other 2 columns are the prediction probabilities.\n",
    "results = pd.read_csv(INPUT_PRED_DIR, header=None)\n",
    "labels = results.iloc[:,0:2]\n",
    "pred = results.iloc[:,2:]"
   ]
  },
  {
   "cell_type": "code",
   "execution_count": null,
   "metadata": {},
   "outputs": [],
   "source": [
    "# Enumerate through every example, and print out the wrong prediction images.\n",
    "for i, image_features in enumerate(parsed_image_dataset.take(700)):\n",
    "    label = str(labels.iloc[i, :].idxmax())\n",
    "    prediction = str(pred.iloc[i, :].idxmax() - 2)\n",
    "    \n",
    "    if label != prediction:\n",
    "        print(\"True label: \" + label + \"\\nPred label: \" + prediction)\n",
    "        image_raw = image_features['image'].numpy()\n",
    "        display.display(display.Image(data=image_raw))"
   ]
  }
 ],
 "metadata": {
  "environment": {
   "name": "tf-gpu.1-15.m49",
   "type": "gcloud",
   "uri": "gcr.io/deeplearning-platform-release/tf-gpu.1-15:m49"
  },
  "kernelspec": {
   "display_name": "Python 3",
   "language": "python",
   "name": "python3"
  },
  "language_info": {
   "codemirror_mode": {
    "name": "ipython",
    "version": 3
   },
   "file_extension": ".py",
   "mimetype": "text/x-python",
   "name": "python",
   "nbconvert_exporter": "python",
   "pygments_lexer": "ipython3",
   "version": "3.7.6"
  }
 },
 "nbformat": 4,
 "nbformat_minor": 4
}
