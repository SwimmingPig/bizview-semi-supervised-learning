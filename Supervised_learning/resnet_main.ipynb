{
 "cells": [
  {
   "cell_type": "markdown",
   "metadata": {},
   "source": [
    "# Resnet Supervised Learning\n",
    "This file trains a supervised learning model (Resnet50) using transfer learning to train on an unknown dataset. And the results give us a baseline accuracy to compare with the semi-supervised model (Mixmatch)."
   ]
  },
  {
   "cell_type": "code",
   "execution_count": null,
   "metadata": {},
   "outputs": [],
   "source": [
    "from keras.utils import np_utils\n",
    "import numpy as np\n",
    "from resnet_lib import create_dataset, create_model, test_callback, tune_model, visualize_model"
   ]
  },
  {
   "cell_type": "code",
   "execution_count": null,
   "metadata": {},
   "outputs": [],
   "source": [
    "# Global constants\n",
    "NUM_CLASSES = 2\n",
    "IMAGE_SIZE = 64\n",
    "BATCH_SIZE = 64\n",
    "EPOCHS = 10\n",
    "\n",
    "# Directories\n",
    "INPUT_TF_TRAIN = '../Mixmatch/ML_DATA/SSL/streetview_v3_64.1@250-label.tfrecord'\n",
    "INPUT_TF_TEST = '../Mixmatch/ML_DATA/streetview_v3_64-test.tfrecord'"
   ]
  },
  {
   "cell_type": "code",
   "execution_count": null,
   "metadata": {},
   "outputs": [],
   "source": [
    "# Construct the datsets\n",
    "X_train, y_train = create_dataset(INPUT_TF_TRAIN)\n",
    "X_test, y_test = create_dataset(INPUT_TF_TEST)\n",
    "y_train = np_utils.to_categorical(y_train, NUM_CLASSES)\n",
    "y_test = np_utils.to_categorical(y_test, NUM_CLASSES)"
   ]
  },
  {
   "cell_type": "code",
   "execution_count": null,
   "metadata": {},
   "outputs": [],
   "source": [
    "# Build model and fit the top layers\n",
    "model = create_model(IMAGE_SIZE, NUM_CLASSES, lr=0.0001)\n",
    "model.fit(x=X_train, y=y_train, epochs=EPOCHS, batch_size=BATCH_SIZE, verbose=1, validation_split = 0.1, validation_freq=1, callbacks=[test_callback((X_test, y_test))])"
   ]
  },
  {
   "cell_type": "code",
   "execution_count": null,
   "metadata": {},
   "outputs": [],
   "source": [
    "# Visualize the model and determine which block will be trained in the tuning phase\n",
    "visualize_model(model)"
   ]
  },
  {
   "cell_type": "code",
   "execution_count": null,
   "metadata": {},
   "outputs": [],
   "source": [
    "# Fine tune the model\n",
    "EPOCHS = 30\n",
    "model = tune_model(model, trainable_layer=143, lr=0.0001)\n",
    "model.fit(x=X_train, y=y_train, epochs=EPOCHS, batch_size=BATCH_SIZE, verbose=1, validation_split = 0.1, validation_freq=1, callbacks=[test_callback((X_test, y_test))])"
   ]
  },
  {
   "cell_type": "code",
   "execution_count": null,
   "metadata": {},
   "outputs": [],
   "source": [
    "# Output the predictions of a model to csv files for further analysis\n",
    "pred = model.predict(X_test.astype(np.float32))\n",
    "np.savetxt(\"results.csv\", np.concatenate((y_test, pred), axis=1), delimiter=\",\")"
   ]
  }
 ],
 "metadata": {
  "environment": {
   "name": "tf-gpu.1-15.m49",
   "type": "gcloud",
   "uri": "gcr.io/deeplearning-platform-release/tf-gpu.1-15:m49"
  },
  "kernelspec": {
   "display_name": "Python 3",
   "language": "python",
   "name": "python3"
  },
  "language_info": {
   "codemirror_mode": {
    "name": "ipython",
    "version": 3
   },
   "file_extension": ".py",
   "mimetype": "text/x-python",
   "name": "python",
   "nbconvert_exporter": "python",
   "pygments_lexer": "ipython3",
   "version": "3.7.6"
  }
 },
 "nbformat": 4,
 "nbformat_minor": 4
}
