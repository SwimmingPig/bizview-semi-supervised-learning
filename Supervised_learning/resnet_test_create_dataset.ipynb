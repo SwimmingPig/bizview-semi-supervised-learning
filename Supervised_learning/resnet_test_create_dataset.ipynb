{
 "cells": [
  {
   "cell_type": "markdown",
   "metadata": {},
   "source": [
    "# Resnet Test create_dataset()\n",
    "The purpose of this file is to test the **create_dataset()** function within the resnet_lib.py file.\n",
    "\n",
    "The **create_dataset()** function loads tfrecord files and construct a dataset based on the input.\n",
    "\n",
    "The experiment is conducted by loading the CIFAR-10 dataset from both the create_dataset() and keras builtin function. If the create_dataset() function works properly, the output file type, size and training results on the same model should be similair within two files.\n",
    "\n",
    "The results of the test is in this [**Link**](https://docs.google.com/document/d/1EK9qNcKYkrYBxs-wUujxkuLCt5x21l8CccGkfoz2Njg/edit?usp=sharing)"
   ]
  },
  {
   "cell_type": "code",
   "execution_count": 17,
   "metadata": {},
   "outputs": [],
   "source": [
    "from keras.utils import np_utils\n",
    "from keras.datasets import cifar10\n",
    "import numpy as np\n",
    "from resnet_lib import create_dataset, create_model, test_callback, tune_model, visualize_model"
   ]
  },
  {
   "cell_type": "code",
   "execution_count": 8,
   "metadata": {},
   "outputs": [],
   "source": [
    "# Global constants\n",
    "NUM_CLASSES = 10\n",
    "IMAGE_SIZE = 32\n",
    "BATCH_SIZE = 64\n",
    "EPOCHS = 10\n",
    "\n",
    "# Directories\n",
    "INPUT_TF_TRAIN = '../Mixmatch/ML_DATA/cifar10-train.tfrecord'\n",
    "INPUT_TF_TEST = '../Mixmatch/ML_DATA/cifar10-test.tfrecord'"
   ]
  },
  {
   "cell_type": "code",
   "execution_count": 9,
   "metadata": {},
   "outputs": [],
   "source": [
    "# Create dataset using both methods\n",
    "\n",
    "# The control group: create dataset using Keras built in function\n",
    "(X_keras_train, y_keras_train), (X_keras_test, y_keras_test) = cifar10.load_data()\n",
    "y_keras_train = np_utils.to_categorical(y_keras_train, NUM_CLASSES)\n",
    "y_keras_test = np_utils.to_categorical(y_keras_test, NUM_CLASSES)\n",
    "\n",
    "# The experiment group: create dataset using create_dataset()\n",
    "X_train, y_train = create_dataset(INPUT_TF_TRAIN)\n",
    "X_test, y_test = create_dataset(INPUT_TF_TEST)\n",
    "y_train = np_utils.to_categorical(y_train, NUM_CLASSES)\n",
    "y_test = np_utils.to_categorical(y_test, NUM_CLASSES)"
   ]
  },
  {
   "cell_type": "markdown",
   "metadata": {},
   "source": [
    "## Experiment 1\n",
    "Check the shape and range of the datasets"
   ]
  },
  {
   "cell_type": "code",
   "execution_count": 23,
   "metadata": {},
   "outputs": [
    {
     "name": "stdout",
     "output_type": "stream",
     "text": [
      "X_train shape:  (50000, 32, 32, 3) (50000, 32, 32, 3)\n",
      "y_train shape:  (50000, 10) (50000, 10)\n",
      "image range:  (0, 255) (0, 255)\n"
     ]
    }
   ],
   "source": [
    "print('X_train shape: ', X_train.shape, X_keras_train.shape)\n",
    "print('y_train shape: ', y_train.shape, y_keras_train.shape)\n",
    "print('image range: ', (np.amin(X_train), np.amax(X_train)), (np.amin(X_keras_train), np.amax(X_keras_train)))"
   ]
  },
  {
   "cell_type": "markdown",
   "metadata": {},
   "source": [
    "## Experiment 2\n",
    "Train both datasets on the same model, the results should be similar"
   ]
  },
  {
   "cell_type": "code",
   "execution_count": null,
   "metadata": {},
   "outputs": [],
   "source": [
    "# Train on the create_dataset dataset\n",
    "model = create_model(IMAGE_SIZE, NUM_CLASSES, lr=0.0001)\n",
    "model.fit(x=X_train, y=y_train, epochs=EPOCHS, batch_size=BATCH_SIZE, verbose=0, validation_split=0.1, validation_freq=1, callbacks=[test_callback((X_test, y_test))])\n",
    "\n",
    "# Train on the keras dataset\n",
    "model = create_model(IMAGE_SIZE, NUM_CLASSES, lr=0.0001)\n",
    "model.fit(x=X_keras_train, y=y_keras_train, epochs=EPOCHS, batch_size=BATCH_SIZE, verbose=0, validation_split=0.1, validation_freq=1, callbacks=[test_callback((X_keras_test, y_keras_test))])"
   ]
  }
 ],
 "metadata": {
  "environment": {
   "name": "tf-gpu.1-15.m49",
   "type": "gcloud",
   "uri": "gcr.io/deeplearning-platform-release/tf-gpu.1-15:m49"
  },
  "kernelspec": {
   "display_name": "Python 3",
   "language": "python",
   "name": "python3"
  },
  "language_info": {
   "codemirror_mode": {
    "name": "ipython",
    "version": 3
   },
   "file_extension": ".py",
   "mimetype": "text/x-python",
   "name": "python",
   "nbconvert_exporter": "python",
   "pygments_lexer": "ipython3",
   "version": "3.7.6"
  }
 },
 "nbformat": 4,
 "nbformat_minor": 4
}
