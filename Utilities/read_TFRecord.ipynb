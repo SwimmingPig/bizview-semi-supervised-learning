{
 "cells": [
  {
   "cell_type": "markdown",
   "metadata": {},
   "source": [
    "# read_TFRecord\n",
    "This file reads in tfrecord file and parsed the tfexample inside it.\n",
    "And present the contents of the tfexamples."
   ]
  },
  {
   "cell_type": "code",
   "execution_count": null,
   "metadata": {},
   "outputs": [],
   "source": [
    "import numpy as np\n",
    "import tensorflow.compat.v1 as tf\n",
    "import matplotlib.pyplot as plt\n",
    "import IPython.display as display\n",
    "tf.enable_eager_execution()"
   ]
  },
  {
   "cell_type": "code",
   "execution_count": null,
   "metadata": {},
   "outputs": [],
   "source": [
    "DATASET_FILE_PATH = '../Mixmatch/ML_DATA/streetview_v4_64-test.tfrecord'"
   ]
  },
  {
   "cell_type": "code",
   "execution_count": null,
   "metadata": {},
   "outputs": [],
   "source": [
    "# Parse the label and image data from the tfrecord file.\n",
    "# Input(file_dir: String), Output(tf.data.TFRecordDataset)\n",
    "def parse_tf_records(file_dir):\n",
    "    raw_image_dataset = tf.data.TFRecordDataset(file_dir)\n",
    "\n",
    "    # Create a dictionary describing the features.\n",
    "    image_feature_description = {\n",
    "        'label': tf.io.FixedLenFeature([], tf.int64),\n",
    "        'image': tf.io.FixedLenFeature([], tf.string),\n",
    "        'texts': tf.io.FixedLenFeature([], tf.string),\n",
    "        'embeddings': tf.io.VarLenFeature(dtype=tf.float32)\n",
    "    }\n",
    "\n",
    "    def _parse_image_function(example_proto):\n",
    "      # Parse the input tf.Example proto using the dictionary above.\n",
    "      return tf.io.parse_single_example(example_proto, image_feature_description)\n",
    "\n",
    "    parsed_image_dataset = raw_image_dataset.map(_parse_image_function)\n",
    "    \n",
    "    return parsed_image_dataset\n",
    "\n",
    "parsed_image_dataset = parse_tf_records(DATASET_FILE_PATH)"
   ]
  },
  {
   "cell_type": "code",
   "execution_count": null,
   "metadata": {},
   "outputs": [],
   "source": [
    "cnt = 0\n",
    "distribution = {0:0, 1:0}\n",
    "\n",
    "for image_features in parsed_image_dataset:\n",
    "    # Calculate the distribution of the dataset\n",
    "    cnt += 1\n",
    "    distribution[int(image_features['label'])] += 1\n",
    "\n",
    "    # Print out info of the tfexample, and display the image.\n",
    "    print(int(image_features['label']))\n",
    "    print(image_features['texts'])\n",
    "    image_raw = image_features['image'].numpy()\n",
    "    display.display(display.Image(data=image_raw))\n",
    "    \n",
    "print(cnt)\n",
    "print(distribution)"
   ]
  }
 ],
 "metadata": {
  "environment": {
   "name": "tf-gpu.1-15.m49",
   "type": "gcloud",
   "uri": "gcr.io/deeplearning-platform-release/tf-gpu.1-15:m49"
  },
  "kernelspec": {
   "display_name": "Python 3",
   "language": "python",
   "name": "python3"
  },
  "language_info": {
   "codemirror_mode": {
    "name": "ipython",
    "version": 3
   },
   "file_extension": ".py",
   "mimetype": "text/x-python",
   "name": "python",
   "nbconvert_exporter": "python",
   "pygments_lexer": "ipython3",
   "version": "3.7.6"
  }
 },
 "nbformat": 4,
 "nbformat_minor": 4
}
